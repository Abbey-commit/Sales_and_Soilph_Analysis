{
 "cells": [
  {
   "cell_type": "code",
   "execution_count": 3,
   "id": "da8afbaf-bf7f-414a-a0b3-54bcdce08629",
   "metadata": {},
   "outputs": [
    {
     "name": "stdout",
     "output_type": "stream",
     "text": [
      "    Sample ID Location  Soil pH Moisture Content (%) Element Concentration\n",
      "0    Sample_1   Area_1      7.0                 12.5              Iron_1.5\n",
      "1    Sample_2   Area_2      6.5                 14.3         Magnesium_0.5\n",
      "2    Sample_3   Area_3      NaN                 15.0              Iron_2.1\n",
      "3    Sample_4   Area_4      8.0                 10.0              Iron_1.8\n",
      "4    Sample_5   Area_5      5.0                 -5.0         Magnesium_3.0\n",
      "5    Sample_6   Area_1      7.2                130.0              Iron_1.0\n",
      "6    Sample_7   Area_2      7.1                 20.0         Magnesium_2.5\n",
      "7    Sample_8   Area_3      6.9                  NaN              Iron_2.0\n",
      "8    Sample_9   Area_4    100.0                 25.6              Iron_2.5\n",
      "9   Sample_10   Area_5      4.5                 30.1         Magnesium_2.8\n",
      "10  Sample_11   Area_6     -1.0                  7.5              Iron_1.0\n",
      "11  Sample_12   Area_1      9.0                  8.0        Magnesium_0.99\n",
      "12  Sample_13   Area_7      7.6                  9.1              Iron_1.3\n",
      "13  Sample_14   Area_8      6.7                 11.2                   NaN\n",
      "14  Sample_15   Area_2      NaN                 high              Iron_2.2\n",
      "15  Sample_16   Area_3      5.5                  8.5          Magnesium_1A\n",
      "16  Sample_17   Area_4      7.8                 10.5              Iron_2.1\n",
      "17  Sample_18   Area_5      6.3                  NaN              Iron_nan\n",
      "18  Sample_19   Area_6      7.1                 15.6              Iron_1.9\n",
      "19  Sample_20   Area_9      8.5                 20.0              Iron_3.7\n"
     ]
    }
   ],
   "source": [
    "import pandas as pd  \n",
    "import numpy as np  \n",
    "\n",
    "# Sample Data Creation  \n",
    "data = {  \n",
    "    \"Sample ID\": [f\"Sample_{i+1}\" for i in range(20)],  \n",
    "    \"Location\": [  \n",
    "        \"Area_1\", \"Area_2\", \"Area_3\", \"Area_4\", \"Area_5\",   \n",
    "        \"Area_1\", \"Area_2\", \"Area_3\", \"Area_4\", \"Area_5\",  \n",
    "        \"Area_6\", \"Area_1\", \"Area_7\", \"Area_8\", \"Area_2\",   \n",
    "        \"Area_3\", \"Area_4\", \"Area_5\", \"Area_6\", \"Area_9\"  \n",
    "    ],  \n",
    "    \"Soil pH\": [  \n",
    "        7.0, 6.5, np.nan, 8.0, 5.0,  \n",
    "        7.2, 7.1, 6.9, 100.0, 4.5,   \n",
    "        -1.0, 9.0, 7.6, 6.7, np.nan,   \n",
    "        5.5, 7.8, 6.3, 7.1, 8.5  \n",
    "    ],  \n",
    "    \"Moisture Content (%)\": [  \n",
    "        12.5, 14.3, 15.0, 10.0, -5.0,   \n",
    "        130.0, 20.0, np.nan, 25.6, 30.1,   \n",
    "        7.5, 8.0, 9.1, 11.2, \"high\",   \n",
    "        8.5, 10.5, np.nan, 15.6, 20.0  \n",
    "    ],  \n",
    "    \"Element Concentration\": [  \n",
    "        \"Iron_1.5\", \"Magnesium_0.5\", \"Iron_2.1\",   \n",
    "        \"Iron_1.8\", \"Magnesium_3.0\", \"Iron_1.0\",  \n",
    "        \"Magnesium_2.5\", \"Iron_2.0\", \"Iron_2.5\",   \n",
    "        \"Magnesium_2.8\", \"Iron_1.0\", \"Magnesium_0.99\",  \n",
    "        \"Iron_1.3\", np.nan, \"Iron_2.2\", \"Magnesium_1A\",  \n",
    "        \"Iron_2.1\", \"Iron_nan\", \"Iron_1.9\", \"Iron_3.7\"  \n",
    "    ]  \n",
    "}  \n",
    "\n",
    "# Create the DataFrame  \n",
    "mars_df = pd.DataFrame(data)  \n",
    "\n",
    "# Display the created dataset  \n",
    "print(mars_df)"
   ]
  },
  {
   "cell_type": "code",
   "execution_count": 4,
   "id": "3662921f-4d90-4017-91a8-f499a9d7f816",
   "metadata": {},
   "outputs": [
    {
     "name": "stdout",
     "output_type": "stream",
     "text": [
      "    Sample ID Location  Soil pH  Moisture Content (%) Element Concentration\n",
      "0    Sample_1   Area_1     7.00             12.500000              Iron 1.5\n",
      "1    Sample_2   Area_2     6.50             14.300000         Magnesium 0.5\n",
      "2    Sample_3   Area_3     7.05             15.000000              Iron 2.1\n",
      "3    Sample_4   Area_4     8.00             10.000000              Iron 1.8\n",
      "6    Sample_7   Area_2     7.10             20.000000         Magnesium 2.5\n",
      "7    Sample_8   Area_3     6.90             20.170588              Iron 2.0\n",
      "9   Sample_10   Area_5     4.50             30.100000         Magnesium 2.8\n",
      "11  Sample_12   Area_1     9.00              8.000000        Magnesium 0.99\n",
      "12  Sample_13   Area_7     7.60              9.100000              Iron 1.3\n",
      "13  Sample_14   Area_8     6.70             11.200000               unknown\n",
      "14  Sample_15   Area_2     7.05             20.170588              Iron 2.2\n",
      "15  Sample_16   Area_3     5.50              8.500000          Magnesium 1A\n",
      "16  Sample_17   Area_4     7.80             10.500000              Iron 2.1\n",
      "17  Sample_18   Area_5     6.30             20.170588          Iron unknown\n",
      "18  Sample_19   Area_6     7.10             15.600000              Iron 1.9\n",
      "19  Sample_20   Area_9     8.50             20.000000              Iron 3.7\n"
     ]
    },
    {
     "name": "stderr",
     "output_type": "stream",
     "text": [
      "C:\\Users\\user\\AppData\\Local\\Temp\\ipykernel_10364\\275274382.py:2: FutureWarning: Series.fillna with 'method' is deprecated and will raise in a future version. Use obj.ffill() or obj.bfill() instead.\n",
      "  mars_df['Location'].fillna(method='ffill', inplace=True)\n"
     ]
    }
   ],
   "source": [
    "# Step 1: Handle Missing Values  \n",
    "mars_df['Location'].fillna(method='ffill', inplace=True)  \n",
    "mars_df['Soil pH'].fillna(mars_df['Soil pH'].median(), inplace=True)  \n",
    "mars_df['Moisture Content (%)'].replace(\"high\", np.nan, inplace=True)  \n",
    "mars_df['Moisture Content (%)'].fillna(mars_df['Moisture Content (%)'].mean(), inplace=True)  \n",
    "mars_df['Moisture Content (%)'] = pd.to_numeric(mars_df['Moisture Content (%)'], errors='coerce')  \n",
    "mars_df['Element Concentration'].fillna(\"unknown\", inplace=True)  \n",
    "\n",
    "# Step 2: Correct Data Types  \n",
    "mars_df['Soil pH'] = pd.to_numeric(mars_df['Soil pH'], errors='coerce')  \n",
    "\n",
    "# Step 3: Handle Outliers  \n",
    "mars_df = mars_df[(mars_df['Soil pH'] >= 0) & (mars_df['Soil pH'] <= 14)]  \n",
    "mars_df = mars_df[(mars_df['Moisture Content (%)'] >= 0) & (mars_df['Moisture Content (%)'] <= 100)]  \n",
    "\n",
    "# Step 4: Standardize Formats  \n",
    "mars_df['Element Concentration'] = mars_df['Element Concentration'].str.replace(\"_\", \" \").str.replace(\"nan\", \"unknown\")  \n",
    "\n",
    "# Step 5: Deduplicate  \n",
    "mars_df.drop_duplicates(subset=['Sample ID'], keep='first', inplace=True)  \n",
    "\n",
    "# Final cleaned dataset  \n",
    "print(mars_df)"
   ]
  },
  {
   "cell_type": "code",
   "execution_count": 5,
   "id": "837c86ed-26aa-4ac2-a8f3-e072243b786f",
   "metadata": {},
   "outputs": [
    {
     "name": "stdout",
     "output_type": "stream",
     "text": [
      "    Sample ID Location  Soil pH  Moisture Content (%) Element Concentration\n",
      "0    Sample_1   Area_1     7.00             12.500000              Iron 1.5\n",
      "1    Sample_2   Area_2     6.50             14.300000         Magnesium 0.5\n",
      "2    Sample_3   Area_3     7.05             15.000000              Iron 2.1\n",
      "3    Sample_4   Area_4     8.00             10.000000              Iron 1.8\n",
      "6    Sample_7   Area_2     7.10             20.000000         Magnesium 2.5\n",
      "7    Sample_8   Area_3     6.90             20.170588              Iron 2.0\n",
      "9   Sample_10   Area_5     4.50             30.100000         Magnesium 2.8\n",
      "11  Sample_12   Area_1     9.00              8.000000        Magnesium 0.99\n",
      "12  Sample_13   Area_7     7.60              9.100000              Iron 1.3\n",
      "13  Sample_14   Area_8     6.70             11.200000               unknown\n",
      "14  Sample_15   Area_2     7.05             20.170588              Iron 2.2\n",
      "15  Sample_16   Area_3     5.50              8.500000          Magnesium 1A\n",
      "16  Sample_17   Area_4     7.80             10.500000              Iron 2.1\n",
      "17  Sample_18   Area_5     6.30             20.170588          Iron unknown\n",
      "18  Sample_19   Area_6     7.10             15.600000              Iron 1.9\n",
      "19  Sample_20   Area_9     8.50             20.000000              Iron 3.7\n"
     ]
    }
   ],
   "source": [
    "# Step 1: Handle Missing Values  \n",
    "mars_df['Location'].ffill(inplace=True)  # Forward fill for Location  \n",
    "mars_df['Soil pH'].fillna(mars_df['Soil pH'].median(), inplace=True)  # Fill NaNs with median  \n",
    "mars_df['Moisture Content (%)'].replace(\"high\", np.nan, inplace=True)  # Replace \"high\" with NaN  \n",
    "mars_df['Moisture Content (%)'].fillna(mars_df['Moisture Content (%)'].mean(), inplace=True)  # Fill NaNs with mean  \n",
    "mars_df['Moisture Content (%)'] = pd.to_numeric(mars_df['Moisture Content (%)'], errors='coerce')  # Convert to numeric  \n",
    "mars_df['Element Concentration'].fillna(\"unknown\", inplace=True)  # Fill NaNs with \"unknown\"  \n",
    "\n",
    "# Step 2: Correct Data Types  \n",
    "mars_df['Soil pH'] = pd.to_numeric(mars_df['Soil pH'], errors='coerce')  \n",
    "\n",
    "# Step 3: Handle Outliers  \n",
    "mars_df = mars_df[(mars_df['Soil pH'] >= 0) & (mars_df['Soil pH'] <= 14)]  \n",
    "mars_df = mars_df[(mars_df['Moisture Content (%)'] >= 0) & (mars_df['Moisture Content (%)'] <= 100)]  \n",
    "\n",
    "# Step 4: Standardize Formats  \n",
    "mars_df['Element Concentration'] = mars_df['Element Concentration'].str.replace(\"_\", \" \").str.replace(\"nan\", \"unknown\")  \n",
    "\n",
    "# Step 5: Deduplicate  \n",
    "mars_df.drop_duplicates(subset=['Sample ID'], keep='first', inplace=True)  \n",
    "\n",
    "# Final cleaned dataset  \n",
    "print(mars_df)  "
   ]
  },
  {
   "cell_type": "code",
   "execution_count": 11,
   "id": "c0b7b3ce-6b33-446c-80f6-96c0581c2701",
   "metadata": {},
   "outputs": [
    {
     "name": "stdout",
     "output_type": "stream",
     "text": [
      "    Sample ID Location  Soil pH  Moisture Content (%) Element Concentration\n",
      "15  Sample_16   Area_3      5.5              8.500000          Magnesium 1A\n",
      "16  Sample_17   Area_4      7.8             10.500000              Iron 2.1\n",
      "17  Sample_18   Area_5      6.3             20.170588          Iron unknown\n",
      "18  Sample_19   Area_6      7.1             15.600000              Iron 1.9\n",
      "19  Sample_20   Area_9      8.5             20.000000              Iron 3.7\n"
     ]
    }
   ],
   "source": [
    "print(mars_df.tail())"
   ]
  },
  {
   "cell_type": "code",
   "execution_count": 6,
   "id": "8610ea8e-7c50-4aaa-ad69-977dccbf187f",
   "metadata": {},
   "outputs": [
    {
     "name": "stdout",
     "output_type": "stream",
     "text": [
      "       Sample ID Location    Soil pH  Moisture Content (%)  \\\n",
      "count         16       16  16.000000             16.000000   \n",
      "unique        16        9        NaN                   NaN   \n",
      "top     Sample_1   Area_2        NaN                   NaN   \n",
      "freq           1        3        NaN                   NaN   \n",
      "mean         NaN      NaN   7.037500             15.331985   \n",
      "std          NaN      NaN   1.082974              6.051454   \n",
      "min          NaN      NaN   4.500000              8.000000   \n",
      "25%          NaN      NaN   6.650000             10.375000   \n",
      "50%          NaN      NaN   7.050000             14.650000   \n",
      "75%          NaN      NaN   7.650000             20.042647   \n",
      "max          NaN      NaN   9.000000             30.100000   \n",
      "\n",
      "       Element Concentration  \n",
      "count                     16  \n",
      "unique                    15  \n",
      "top                 Iron 2.1  \n",
      "freq                       2  \n",
      "mean                     NaN  \n",
      "std                      NaN  \n",
      "min                      NaN  \n",
      "25%                      NaN  \n",
      "50%                      NaN  \n",
      "75%                      NaN  \n",
      "max                      NaN  \n"
     ]
    }
   ],
   "source": [
    "# Descriptive statistics  \n",
    "print(mars_df.describe(include='all'))"
   ]
  },
  {
   "cell_type": "markdown",
   "id": "cae6bebe-c60c-4f73-8ba3-14d6fa7b7649",
   "metadata": {},
   "source": [
    "Check for Unique Locations\n",
    "We can see how many unique sampling locations are present in the dataset:"
   ]
  },
  {
   "cell_type": "code",
   "execution_count": 7,
   "id": "edfbdfe5-c2e9-42cc-94be-f8ed359f8540",
   "metadata": {},
   "outputs": [
    {
     "name": "stdout",
     "output_type": "stream",
     "text": [
      "Unique Locations (9): ['Area_1' 'Area_2' 'Area_3' 'Area_4' 'Area_5' 'Area_7' 'Area_8' 'Area_6'\n",
      " 'Area_9']\n"
     ]
    }
   ],
   "source": [
    "# Unique Locations  \n",
    "unique_locations = mars_df['Location'].unique()  \n",
    "num_unique_locations = mars_df['Location'].nunique()  \n",
    "print(f\"Unique Locations ({num_unique_locations}): {unique_locations}\")"
   ]
  },
  {
   "cell_type": "markdown",
   "id": "e036da31-1d43-4649-b8d9-88caf928de4f",
   "metadata": {},
   "source": [
    "Soil pH Analysis\n",
    "Let's check the distribution of soil pH values, including the mean, median, and range:"
   ]
  },
  {
   "cell_type": "code",
   "execution_count": 8,
   "id": "391c12cf-e4ec-4e04-a218-fc2b43c9fd74",
   "metadata": {},
   "outputs": [
    {
     "name": "stdout",
     "output_type": "stream",
     "text": [
      "Mean Soil pH: 7.04\n",
      "Median Soil pH: 7.05\n",
      "Minimum Soil pH: 4.50\n",
      "Maximum Soil pH: 9.00\n"
     ]
    }
   ],
   "source": [
    "# Soil pH Analysis  \n",
    "soil_pH_mean = mars_df['Soil pH'].mean()  \n",
    "soil_pH_median = mars_df['Soil pH'].median()  \n",
    "soil_pH_min = mars_df['Soil pH'].min()  \n",
    "soil_pH_max = mars_df['Soil pH'].max()  \n",
    "\n",
    "print(f\"Mean Soil pH: {soil_pH_mean:.2f}\")  \n",
    "print(f\"Median Soil pH: {soil_pH_median:.2f}\")  \n",
    "print(f\"Minimum Soil pH: {soil_pH_min:.2f}\")  \n",
    "print(f\"Maximum Soil pH: {soil_pH_max:.2f}\")"
   ]
  },
  {
   "cell_type": "markdown",
   "id": "4b82702e-16e7-4d6a-9e1a-a59ecbe30e65",
   "metadata": {},
   "source": [
    "Moisture Content Analysis\n",
    "Let's analyze the moisture content, identifying its average and distribution:"
   ]
  },
  {
   "cell_type": "code",
   "execution_count": 9,
   "id": "663c9c44-1e09-4294-ad43-23115866cb40",
   "metadata": {},
   "outputs": [
    {
     "name": "stdout",
     "output_type": "stream",
     "text": [
      "Mean Moisture Content: 15.33%\n",
      "Standard Deviation: 6.05%\n"
     ]
    }
   ],
   "source": [
    "# Moisture Content Analysis  \n",
    "moisture_mean = mars_df['Moisture Content (%)'].mean()  \n",
    "moisture_std = mars_df['Moisture Content (%)'].std()  \n",
    "\n",
    "print(f\"Mean Moisture Content: {moisture_mean:.2f}%\")  \n",
    "print(f\"Standard Deviation: {moisture_std:.2f}%\")"
   ]
  },
  {
   "cell_type": "code",
   "execution_count": 12,
   "id": "91dd91b4-d7bd-4dcc-8282-4b073326f019",
   "metadata": {},
   "outputs": [
    {
     "name": "stdout",
     "output_type": "stream",
     "text": [
      "Unique Element Concentrations: ['Iron 1.5' 'Magnesium 0.5' 'Iron 2.1' 'Iron 1.8' 'Magnesium 2.5'\n",
      " 'Iron 2.0' 'Magnesium 2.8' 'Magnesium 0.99' 'Iron 1.3' 'unknown'\n",
      " 'Iron 2.2' 'Magnesium 1A' 'Iron unknown' 'Iron 1.9' 'Iron 3.7']\n"
     ]
    }
   ],
   "source": [
    "# Element Concentration Analysis  \n",
    "unique_elements = mars_df['Element Concentration'].unique()  \n",
    "print(f\"Unique Element Concentrations: {unique_elements}\")"
   ]
  },
  {
   "cell_type": "markdown",
   "id": "81190e31-e0a5-4a27-b860-8c114ef1cb89",
   "metadata": {},
   "source": [
    "Visualization\n",
    "For better insights, we can visualize some of the aspects discussed above. Here are a few plots we can create using matplotlib or seaborn.\n",
    "\n",
    "A. Histogram of Soil pH:"
   ]
  },
  {
   "cell_type": "code",
   "execution_count": 13,
   "id": "85b1d904-0e5c-42c4-972b-764f5fb25490",
   "metadata": {},
   "outputs": [
    {
     "data": {
      "image/png": "[encoded data removed]",
      "text/plain": [
       "<Figure size 1000x600 with 1 Axes>"
      ]
     },
     "metadata": {},
     "output_type": "display_data"
    }
   ],
   "source": [
    "import matplotlib.pyplot as plt  \n",
    "import seaborn as sns  \n",
    "\n",
    "plt.figure(figsize=(10, 6))  \n",
    "sns.histplot(mars_df['Soil pH'].dropna(), bins=10, kde=True)  \n",
    "plt.title('Distribution of Soil pH')  \n",
    "plt.xlabel('Soil pH')  \n",
    "plt.ylabel('Frequency')  \n",
    "plt.grid()  \n",
    "plt.show()"
   ]
  },
  {
   "cell_type": "markdown",
   "id": "3c3f841b-9d72-4bd9-a9aa-8608b405dc79",
   "metadata": {},
   "source": [
    "B. Bar Chart of Average Moisture Content per Location:\n",
    "python"
   ]
  },
  {
   "cell_type": "code",
   "execution_count": 14,
   "id": "77cc1ae2-e181-4824-8f2d-b25b39e043d2",
   "metadata": {},
   "outputs": [
    {
     "data": {
      "image/png": "[encoded data removed]",
      "text/plain": [
       "<Figure size 1200x600 with 1 Axes>"
      ]
     },
     "metadata": {},
     "output_type": "display_data"
    }
   ],
   "source": [
    "avg_moisture_by_location = mars_df.groupby('Location')['Moisture Content (%)'].mean().reset_index()  \n",
    "\n",
    "plt.figure(figsize=(12, 6))  \n",
    "sns.barplot(x='Location', y='Moisture Content (%)', data=avg_moisture_by_location)  \n",
    "plt.title('Average Moisture Content by Location')  \n",
    "plt.xlabel('Location')  \n",
    "plt.ylabel('Average Moisture Content (%)')  \n",
    "plt.xticks(rotation=45)  \n",
    "plt.grid()  \n",
    "plt.show()"
   ]
  },
  {
   "cell_type": "markdown",
   "id": "cfb0547d-26a8-45bd-9662-2a1063ff9800",
   "metadata": {},
   "source": [
    "Correlation Analysis\n",
    "We could examine potential correlations between soil pH and moisture content."
   ]
  },
  {
   "cell_type": "code",
   "execution_count": 15,
   "id": "757be319-f8fd-4494-bc59-4f0ccb735663",
   "metadata": {},
   "outputs": [
    {
     "name": "stdout",
     "output_type": "stream",
     "text": [
      "Correlation Matrix:\n",
      "                       Soil pH  Moisture Content (%)\n",
      "Soil pH               1.00000              -0.49507\n",
      "Moisture Content (%) -0.49507               1.00000\n"
     ]
    }
   ],
   "source": [
    "# Correlation between Soil pH and Moisture Content  \n",
    "correlation = mars_df[['Soil pH', 'Moisture Content (%)']].corr()  \n",
    "print(\"Correlation Matrix:\\n\", correlation)"
   ]
  },
  {
   "cell_type": "code",
   "execution_count": null,
   "id": "6be67139-ee18-4519-92f8-9cb50da209ca",
   "metadata": {},
   "outputs": [],
   "source": []
  }
 ],
 "metadata": {
  "kernelspec": {
   "display_name": "Python 3 (ipykernel)",
   "language": "python",
   "name": "python3"
  },
  "language_info": {
   "codemirror_mode": {
    "name": "ipython",
    "version": 3
   },
   "file_extension": ".py",
   "mimetype": "text/x-python",
   "name": "python",
   "nbconvert_exporter": "python",
   "pygments_lexer": "ipython3",
   "version": "3.12.7"
  }
 },
 "nbformat": 4,
 "nbformat_minor": 5
}
